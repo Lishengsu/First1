{
  "nbformat": 4,
  "nbformat_minor": 0,
  "metadata": {
    "colab": {
      "name": "cnn_mnist.ipynb",
      "version": "0.3.2",
      "provenance": [],
      "collapsed_sections": [],
      "include_colab_link": true
    },
    "kernelspec": {
      "name": "python3",
      "display_name": "Python 3"
    }
  },
  "cells": [
    {
      "cell_type": "markdown",
      "metadata": {
        "id": "view-in-github",
        "colab_type": "text"
      },
      "source": [
        "<a href=\"https://colab.research.google.com/github/Lishengsu/First1/blob/master/cnn_mnist.ipynb\" target=\"_parent\"><img src=\"https://colab.research.google.com/assets/colab-badge.svg\" alt=\"Open In Colab\"/></a>"
      ]
    },
    {
      "metadata": {
        "id": "4WvXYnPZd6uM",
        "colab_type": "code",
        "colab": {}
      },
      "cell_type": "code",
      "source": [
        "from __future__ import absolute_import\n",
        "from __future__ import division\n",
        "from __future__ import print_function\n",
        "\n",
        "import numpy as np\n",
        "import tensorflow as tf\n",
        "\n",
        "tf.logging.set_verbosity(tf.logging.INFO)\n",
        "\n",
        "#if __name__ == \"__main__\":\n",
        "#  tf.app.run()\n",
        "\n"
      ],
      "execution_count": 0,
      "outputs": []
    },
    {
      "metadata": {
        "id": "tmR0RO_elN1I",
        "colab_type": "code",
        "colab": {}
      },
      "cell_type": "code",
      "source": [
        "def cnn_model_fn(features, labels, mode):\n",
        "  \n",
        "  input_layer = tf.reshape(features[\"x\"], [-1, 28, 28, 1])\n",
        "  \n",
        "  #Convolutional Layer #1\n",
        "  conv1 = tf.layers.conv2d(\n",
        "      inputs=input_layer,\n",
        "      filters=32,\n",
        "      kernel_size=[5,5],\n",
        "      padding=\"same\",\n",
        "      activation=tf.nn.relu)\n",
        "  \n",
        "  #Pooling Layer #1\n",
        "  pool1 = tf.layers.max_pooling2d(\n",
        "      inputs=conv1,\n",
        "      pool_size=[2,2],\n",
        "      strides=2)\n",
        "  \n",
        "  #Convolutional Layer #2 and Pooling Layer #2\n",
        "  conv2 = tf.layers.conv2d(\n",
        "      inputs=pool1,\n",
        "      filters=64,\n",
        "      kernel_size=[5,5],\n",
        "      padding=\"same\",\n",
        "      activation=tf.nn.relu)\n",
        "  \n",
        "  pool2 = tf.layers.max_pooling2d(\n",
        "      inputs=conv2,\n",
        "      pool_size=[2,2],\n",
        "      strides=2)\n",
        "  \n",
        "  #Dense Layer\n",
        "  pool2_flat = tf.reshape(pool2, [-1, 7*7*64])\n",
        "  dense = tf.layers.dense(inputs=pool2_flat, units=1024, \n",
        "                        activation=tf.nn.relu)\n",
        "  dropout = tf.layers.dropout(inputs=dense, rate=0.4, \n",
        "                             training=mode==tf.estimator.Modekeys.TRAIN)\n",
        " \n",
        "  # Logits Layer\n",
        "  logits = tf.layers.dense(inputs=dropout, units=10)\n",
        "  \n",
        "  predictions = {\n",
        "      \"classes\": tf.argmax(input=logits, axis=1),\n",
        "      \"probabilities\": tf.nn.softmax(logits, name=\"softmax_tensor\")\n",
        "  }\n",
        "  \n",
        "  if mode == tf.estimator.ModeKeys.PREDICT:\n",
        "    return tf.estimator.EstimatorSpec(mode=mode, predictions=predictions)\n",
        "  \n",
        "  # Calculate Loss\n",
        "  loss = tf.losses.sparse_softmax_cross_entropy(labels=labels,logits=logits)\n",
        "  \n",
        "  #Configure the Training Op\n",
        "  if mode == tf.estimator.ModeKeys.TRAIN:\n",
        "    optimizer = tf.train.GradientDescentOptimizer(learing_rate=0.001)\n",
        "    train_op = optimizer.minimize(\n",
        "        loss = loss,\n",
        "        global_step = tf.train.get_global_step())\n",
        "    return tf.estimator.EstimatorSpec(mode=mode, loss=loss, train_op=train_op)\n",
        "  \n",
        "  #Add evaluation metrcs\n",
        "  eval_metrics_ops = {\n",
        "      \"accuracy\": tf.metrics.accuracy(\n",
        "          lavels=labels, predictions=predictions[\"classes\"])}\n",
        "  return tf.estimator.EstimatorSpec(mode=mode, loss=loss, \n",
        "                               eval_metric_ops=eval_metric_ops)\n",
        "\n"
      ],
      "execution_count": 0,
      "outputs": []
    },
    {
      "metadata": {
        "id": "OJvOJxNY6Bmm",
        "colab_type": "code",
        "colab": {}
      },
      "cell_type": "code",
      "source": [
        "def main(unused_argv):\n",
        "  mnist = tf.contrib.learn.datasets.load_dataset(\"mnist\")\n",
        "  train_data = mnist.train.images\n",
        "  train_labels = np.asarray(mnist.train.labels, dtype=np.int32)\n",
        "  eval_data = mnist.test.images\n",
        "  eval_labels = np.asarray(mnist.test.labels, dtype=np.int32)\n",
        "  \n",
        "  mnist_classifier = tf.estimator.Estimator(\n",
        "      model_fn=cnn_model_fn, model_dir=\"/tmp/mnist_convnet_model\")\n",
        "  \n",
        "  tensors_to_log = {\"probabilities\": \"softmax_tensor\"}\n",
        "  logging_hook = tf.train.LoggingTensorHook(\n",
        "      tensors=tensors_to_log, every_n_iter=50)\n",
        "  \n",
        "  #Train\n",
        "  train_input_fn = tf.estimator.inputs.numpy_input_fn(\n",
        "      x={\"x\": train_data},\n",
        "      y=train_labels,\n",
        "      batch_size=100,\n",
        "      num_epochs=None,\n",
        "      shuffle=True)\n",
        "  mnist_classifier.train(\n",
        "      input_fn=train_input_fn,\n",
        "      steps=20000,\n",
        "      hooks=[logging_hook])\n",
        "  \n",
        "  #Evaluate\n",
        "  eval_input_fn = tf.estimator.inputs.numpy_input_fn(\n",
        "      x={\"x\": eval_data},\n",
        "      y=eval_labels,\n",
        "      num_epochs=1,\n",
        "      shuffle=False)\n",
        "  \n",
        "  eval_results = mnist_classfier.evaluate(input_fn=eval_input_fn)\n",
        "  print(eval_results)\n",
        "  \n",
        "  "
      ],
      "execution_count": 0,
      "outputs": []
    },
    {
      "metadata": {
        "id": "iwQtbCeF8AH0",
        "colab_type": "code",
        "colab": {}
      },
      "cell_type": "code",
      "source": [
        "if __name__ == \"__main__\":\n",
        "    tf.app.run()"
      ],
      "execution_count": 0,
      "outputs": []
    }
  ]
}